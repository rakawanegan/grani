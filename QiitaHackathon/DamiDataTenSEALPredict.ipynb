{
 "cells": [
  {
   "cell_type": "markdown",
   "metadata": {},
   "source": [
    "TenSEALの使い方(秘匿計算)\n",
    "==="
   ]
  },
  {
   "cell_type": "code",
   "execution_count": 1,
   "metadata": {},
   "outputs": [
    {
     "name": "stdout",
     "output_type": "stream",
     "text": [
      "Requirement already satisfied: tenseal in c:\\users\\nakag\\appdata\\local\\programs\\python\\python310\\lib\\site-packages (0.3.14)\n",
      "Note: you may need to restart the kernel to use updated packages.\n"
     ]
    }
   ],
   "source": [
    "%pip install tenseal"
   ]
  },
  {
   "cell_type": "code",
   "execution_count": 2,
   "metadata": {},
   "outputs": [],
   "source": [
    "import tenseal as ts\n",
    "import joblib\n",
    "from torch import nn\n",
    "from torch import functional as F"
   ]
  },
  {
   "cell_type": "code",
   "execution_count": 3,
   "metadata": {},
   "outputs": [],
   "source": [
    "def tenseal_save(enclist, filename=\"enc-data/main\"):\n",
    "    metaenclist = list()\n",
    "    with open(f\"{filename}.tso\", \"wb\") as f:\n",
    "        for data in enclist:\n",
    "            data = data.serialize()\n",
    "            f.write(data)\n",
    "            metaenclist.append(len(data))\n",
    "    joblib.dump(metaenclist, f\"{filename}-meta.joblib\")\n",
    "\n",
    "def tenseal_load(filename=\"enc-data/main\"):\n",
    "    metaenclist = joblib.load(f\"{filename}-meta.joblib\")\n",
    "    enclist = list()\n",
    "    with open(f\"{filename}.tso\", \"rb\") as f:\n",
    "        for size in metaenclist:\n",
    "            data = f.read(size)\n",
    "            enclist.append(data)\n",
    "    return enclist"
   ]
  },
  {
   "cell_type": "code",
   "execution_count": 4,
   "metadata": {},
   "outputs": [],
   "source": [
    "class BaseModel(nn.Module):\n",
    "    def __init__(self, input_size, hidden_size, output_size):\n",
    "        super(BaseModel, self).__init__()\n",
    "        self.fc = nn.Linear(input_size, hidden_size)\n",
    "        self.fc2 = nn.Linear(hidden_size, output_size)\n",
    "    \n",
    "    def forward(self, x):\n",
    "        x = F.relu(self.fc(x))\n",
    "        x = self.fc2(x)\n",
    "        return x\n",
    "    \n",
    "\n",
    "class EncNet:\n",
    "    def __init__(self, torch_nn):\n",
    "        self.fc_weight = torch_nn.fc.weight.T.data.tolist()\n",
    "        self.fc_bias = torch_nn.fc.bias.data.tolist()\n",
    "        self.fc2_weight = torch_nn.fc2.weight.T.data.tolist()\n",
    "        self.fc2_bias = torch_nn.fc2.bias.data.tolist()\n",
    "    \n",
    "    def sigmoid(self, enc_x):\n",
    "        return enc_x.polyval([0.5, 0.197, 0, -0.004])\n",
    "    \n",
    "    def forward(self, enc_x):\n",
    "        # fc1 layer\n",
    "        enc_x = enc_x.mm(self.fc_weight) + self.fc_bias\n",
    "        # sigmoid\n",
    "        enc_x = self.sigmoid(enc_x)\n",
    "        # fc2 layer\n",
    "        enc_x = enc_x.mm(self.fc2_weight) + self.fc2_bias\n",
    "        return self.sigmoid(enc_x)"
   ]
  },
  {
   "cell_type": "code",
   "execution_count": 5,
   "metadata": {},
   "outputs": [],
   "source": [
    "embedding_size = 512\n",
    "input_size = 4 + embedding_size\n",
    "hidden_size = 256\n",
    "output_size = 1\n",
    "\n",
    "basemodel = BaseModel(input_size, hidden_size, output_size)\n",
    "model = EncNet(basemodel)"
   ]
  },
  {
   "cell_type": "code",
   "execution_count": 6,
   "metadata": {},
   "outputs": [],
   "source": [
    "ctxbin = joblib.load(\"enc-data/public_context.joblib\")\n",
    "ctx = ts.context_from(ctxbin)\n",
    "ctx.is_private()\n",
    "\n",
    "enclist = tenseal_load(filename=\"enc-data/main\")"
   ]
  },
  {
   "cell_type": "code",
   "execution_count": 7,
   "metadata": {},
   "outputs": [],
   "source": [
    "preds = list()\n",
    "for row in enclist:\n",
    "    encdata = ts.ckks_vector_from(ctx, row)\n",
    "    output = model.forward(encdata)\n",
    "    preds.append(output)"
   ]
  },
  {
   "cell_type": "code",
   "execution_count": null,
   "metadata": {},
   "outputs": [],
   "source": [
    "tenseal_save(preds, \"enc-data/preds\")"
   ]
  }
 ],
 "metadata": {
  "kernelspec": {
   "display_name": "Python 3",
   "language": "python",
   "name": "python3"
  },
  "language_info": {
   "codemirror_mode": {
    "name": "ipython",
    "version": 3
   },
   "file_extension": ".py",
   "mimetype": "text/x-python",
   "name": "python",
   "nbconvert_exporter": "python",
   "pygments_lexer": "ipython3",
   "version": "3.10.5"
  }
 },
 "nbformat": 4,
 "nbformat_minor": 2
}
