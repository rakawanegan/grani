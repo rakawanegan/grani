{
 "cells": [
  {
   "cell_type": "markdown",
   "metadata": {},
   "source": [
    "TenSEALの使い方(暗号化)\n",
    "==="
   ]
  },
  {
   "cell_type": "code",
   "execution_count": 1,
   "metadata": {},
   "outputs": [
    {
     "name": "stdout",
     "output_type": "stream",
     "text": [
      "Requirement already satisfied: tenseal in c:\\users\\nakag\\appdata\\local\\programs\\python\\python310\\lib\\site-packages (0.3.14)\n",
      "Note: you may need to restart the kernel to use updated packages.\n"
     ]
    },
    {
     "name": "stderr",
     "output_type": "stream",
     "text": [
      "\n",
      "[notice] A new release of pip is available: 23.3.2 -> 24.0\n",
      "[notice] To update, run: python.exe -m pip install --upgrade pip\n",
      "'rm' �́A�����R�}���h�܂��͊O���R�}���h�A\n",
      "����\\�ȃv���O�����܂��̓o�b�` �t�@�C���Ƃ��ĔF������Ă��܂���B\n",
      "�T�u�f�B���N�g���܂��̓t�@�C�� enc-data �͊��ɑ��݂��܂��B\n"
     ]
    }
   ],
   "source": [
    "%pip install tenseal\n",
    "!rm -rf enc-data\n",
    "%mkdir enc-data"
   ]
  },
  {
   "cell_type": "code",
   "execution_count": 2,
   "metadata": {},
   "outputs": [],
   "source": [
    "import tenseal as ts\n",
    "import pandas as pd\n",
    "import joblib\n",
    "from sklearn.preprocessing import OrdinalEncoder"
   ]
  },
  {
   "cell_type": "code",
   "execution_count": 3,
   "metadata": {},
   "outputs": [],
   "source": [
    "# Create the TenSEAL security context\n",
    "def create_ctx():\n",
    "    \"\"\"Helper for creating the CKKS context.\n",
    "    CKKS params:\n",
    "        - Polynomial degree: 8192.\n",
    "        - Coefficient modulus size: [40, 21, 21, 21, 21, 21, 21, 40].\n",
    "        - Scale: 2 ** 21.\n",
    "        - The setup requires the Galois keys for evaluating the convolutions.\n",
    "    \"\"\"\n",
    "    poly_mod_degree = 8192\n",
    "    coeff_mod_bit_sizes = [40, 21, 21, 21, 21, 21, 21, 40]\n",
    "    ctx = ts.context(ts.SCHEME_TYPE.CKKS, poly_mod_degree, -1, coeff_mod_bit_sizes)\n",
    "    ctx.global_scale = 2 ** 21\n",
    "    ctx.generate_galois_keys()\n",
    "    ctx.generate_relin_keys()\n",
    "    return ctx\n",
    "\n",
    "def tenseal_save(enclist, filename=\"enc-data/main\"):\n",
    "    metaenclist = list()\n",
    "    with open(f\"{filename}.tso\", \"wb\") as f:\n",
    "        for data in enclist:\n",
    "            data = data.serialize()\n",
    "            f.write(data)\n",
    "            metaenclist.append(len(data))\n",
    "    joblib.dump(metaenclist, f\"{filename}-meta.joblib\")"
   ]
  },
  {
   "cell_type": "code",
   "execution_count": 4,
   "metadata": {},
   "outputs": [],
   "source": [
    "def doc2vec(x, model, tokenizer):\n",
    "    return model.infer_vector(tokenizer(x))\n",
    "\n",
    "def df2num(rawdf, document_columns, string_columns):\n",
    "    df = rawdf.copy()\n",
    "    df[document_columns] = df[document_columns].map(doc2vec)\n",
    "    oe = OrdinalEncoder()\n",
    "    df[string_columns] = oe.fit_transform(df[string_columns]).astype(int)\n",
    "    return df, oe\n",
    "\n",
    "def df2enc(df, ctx,):\n",
    "    enclist = list()\n",
    "    for i, row in df.iterrows():\n",
    "        rawdata = row.values\n",
    "        encdata = ts.ckks_vector(ctx, rawdata)\n",
    "        enclist.append(encdata)\n",
    "    return enclist"
   ]
  },
  {
   "cell_type": "code",
   "execution_count": 5,
   "metadata": {},
   "outputs": [],
   "source": [
    "document_columns = [\"日常生活で心がけている健康習慣はどんなものですか？\"]\n",
    "string_columns = [\"最も好きな運動は何ですか？\"]"
   ]
  },
  {
   "cell_type": "code",
   "execution_count": 6,
   "metadata": {},
   "outputs": [],
   "source": [
    "df, oe = df2num(pd.read_csv('raw-data/健康習慣.csv'), document_columns, string_columns)"
   ]
  },
  {
   "cell_type": "code",
   "execution_count": 7,
   "metadata": {},
   "outputs": [
    {
     "data": {
      "text/plain": [
       "True"
      ]
     },
     "execution_count": 7,
     "metadata": {},
     "output_type": "execute_result"
    }
   ],
   "source": [
    "context = create_ctx()\n",
    "with open(\"enc-data/context.joblib\", \"wb\") as f:\n",
    "    f.write(context.serialize(save_secret_key=True))\n",
    "context.is_private()"
   ]
  },
  {
   "cell_type": "code",
   "execution_count": 8,
   "metadata": {},
   "outputs": [
    {
     "data": {
      "text/plain": [
       "False"
      ]
     },
     "execution_count": 8,
     "metadata": {},
     "output_type": "execute_result"
    }
   ],
   "source": [
    "pubctx = context.copy()\n",
    "pubctx.make_context_public()\n",
    "del context\n",
    "pubctx.is_private()"
   ]
  },
  {
   "cell_type": "code",
   "execution_count": 9,
   "metadata": {},
   "outputs": [],
   "source": [
    "enclist = df2enc(df, pubctx,)"
   ]
  },
  {
   "cell_type": "code",
   "execution_count": 10,
   "metadata": {},
   "outputs": [],
   "source": [
    "joblib.dump(pubctx.serialize(), \"enc-data/public_context.joblib\")\n",
    "joblib.dump(oe, \"enc-data/ordinalencoder.joblib\")\n",
    "tenseal_save(enclist, filename=\"enc-data/main\")"
   ]
  }
 ],
 "metadata": {
  "kernelspec": {
   "display_name": "Python 3",
   "language": "python",
   "name": "python3"
  },
  "language_info": {
   "codemirror_mode": {
    "name": "ipython",
    "version": 3
   },
   "file_extension": ".py",
   "mimetype": "text/x-python",
   "name": "python",
   "nbconvert_exporter": "python",
   "pygments_lexer": "ipython3",
   "version": "3.10.5"
  }
 },
 "nbformat": 4,
 "nbformat_minor": 2
}
