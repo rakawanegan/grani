{
 "cells": [
  {
   "cell_type": "markdown",
   "metadata": {},
   "source": [
    "TenSEALの使い方(暗号化)\n",
    "==="
   ]
  },
  {
   "cell_type": "code",
   "execution_count": 196,
   "metadata": {},
   "outputs": [
    {
     "name": "stdout",
     "output_type": "stream",
     "text": [
      "Requirement already satisfied: tenseal in c:\\users\\nakag\\appdata\\local\\programs\\python\\python310\\lib\\site-packages (0.3.14)Note: you may need to restart the kernel to use updated packages.\n",
      "\n"
     ]
    },
    {
     "name": "stderr",
     "output_type": "stream",
     "text": [
      "UsageError: Line magic function `%rm` not found.\n",
      "\n",
      "[notice] A new release of pip is available: 23.3.2 -> 24.0\n",
      "[notice] To update, run: python.exe -m pip install --upgrade pip\n"
     ]
    }
   ],
   "source": [
    "%pip install tenseal\n",
    "!rm -rf enc-data\n",
    "%mkdir enc-data"
   ]
  },
  {
   "cell_type": "code",
   "execution_count": 198,
   "metadata": {},
   "outputs": [],
   "source": [
    "import tenseal as ts\n",
    "import pandas as pd\n",
    "import joblib\n",
    "from sklearn.preprocessing import OrdinalEncoder"
   ]
  },
  {
   "cell_type": "code",
   "execution_count": 199,
   "metadata": {},
   "outputs": [],
   "source": [
    "# Create the TenSEAL security context\n",
    "def create_ctx():\n",
    "    \"\"\"Helper for creating the CKKS context.\n",
    "    CKKS params:\n",
    "        - Polynomial degree: 8192.\n",
    "        - Coefficient modulus size: [40, 21, 21, 21, 21, 21, 21, 40].\n",
    "        - Scale: 2 ** 21.\n",
    "        - The setup requires the Galois keys for evaluating the convolutions.\n",
    "    \"\"\"\n",
    "    poly_mod_degree = 8192\n",
    "    coeff_mod_bit_sizes = [40, 21, 21, 21, 21, 21, 21, 40]\n",
    "    ctx = ts.context(ts.SCHEME_TYPE.CKKS, poly_mod_degree, -1, coeff_mod_bit_sizes)\n",
    "    ctx.global_scale = 2 ** 21\n",
    "    ctx.generate_galois_keys()\n",
    "    ctx.generate_relin_keys()\n",
    "    return ctx"
   ]
  },
  {
   "cell_type": "code",
   "execution_count": 200,
   "metadata": {},
   "outputs": [],
   "source": [
    "document_columns = [\"日常生活で心がけている健康習慣はどんなものですか？\"]\n",
    "string_columns = [\"最も好きな運動は何ですか？\"]"
   ]
  },
  {
   "cell_type": "code",
   "execution_count": 201,
   "metadata": {},
   "outputs": [
    {
     "data": {
      "text/html": [
       "<div>\n",
       "<style scoped>\n",
       "    .dataframe tbody tr th:only-of-type {\n",
       "        vertical-align: middle;\n",
       "    }\n",
       "\n",
       "    .dataframe tbody tr th {\n",
       "        vertical-align: top;\n",
       "    }\n",
       "\n",
       "    .dataframe thead th {\n",
       "        text-align: right;\n",
       "    }\n",
       "</style>\n",
       "<table border=\"1\" class=\"dataframe\">\n",
       "  <thead>\n",
       "    <tr style=\"text-align: right;\">\n",
       "      <th></th>\n",
       "      <th>1週間に何回、運動をしていますか？</th>\n",
       "      <th>1日に摂取する水の量はどのくらいですか？</th>\n",
       "      <th>最も好きな運動は何ですか？</th>\n",
       "      <th>睡眠時間は平均して何時間ですか？</th>\n",
       "    </tr>\n",
       "  </thead>\n",
       "  <tbody>\n",
       "    <tr>\n",
       "      <th>0</th>\n",
       "      <td>4</td>\n",
       "      <td>2.628471</td>\n",
       "      <td>バスケ</td>\n",
       "      <td>13.302334</td>\n",
       "    </tr>\n",
       "    <tr>\n",
       "      <th>1</th>\n",
       "      <td>3</td>\n",
       "      <td>1.690676</td>\n",
       "      <td>テニス</td>\n",
       "      <td>21.558928</td>\n",
       "    </tr>\n",
       "    <tr>\n",
       "      <th>2</th>\n",
       "      <td>4</td>\n",
       "      <td>2.551806</td>\n",
       "      <td>テニス</td>\n",
       "      <td>9.333607</td>\n",
       "    </tr>\n",
       "    <tr>\n",
       "      <th>3</th>\n",
       "      <td>4</td>\n",
       "      <td>1.632503</td>\n",
       "      <td>サッカー</td>\n",
       "      <td>7.529754</td>\n",
       "    </tr>\n",
       "    <tr>\n",
       "      <th>4</th>\n",
       "      <td>3</td>\n",
       "      <td>2.208212</td>\n",
       "      <td>テニス</td>\n",
       "      <td>4.869905</td>\n",
       "    </tr>\n",
       "    <tr>\n",
       "      <th>...</th>\n",
       "      <td>...</td>\n",
       "      <td>...</td>\n",
       "      <td>...</td>\n",
       "      <td>...</td>\n",
       "    </tr>\n",
       "    <tr>\n",
       "      <th>95</th>\n",
       "      <td>3</td>\n",
       "      <td>2.850985</td>\n",
       "      <td>テニス</td>\n",
       "      <td>4.059686</td>\n",
       "    </tr>\n",
       "    <tr>\n",
       "      <th>96</th>\n",
       "      <td>4</td>\n",
       "      <td>1.741371</td>\n",
       "      <td>バスケ</td>\n",
       "      <td>12.457003</td>\n",
       "    </tr>\n",
       "    <tr>\n",
       "      <th>97</th>\n",
       "      <td>0</td>\n",
       "      <td>2.873948</td>\n",
       "      <td>テニス</td>\n",
       "      <td>7.950638</td>\n",
       "    </tr>\n",
       "    <tr>\n",
       "      <th>98</th>\n",
       "      <td>5</td>\n",
       "      <td>1.487113</td>\n",
       "      <td>テニス</td>\n",
       "      <td>19.900786</td>\n",
       "    </tr>\n",
       "    <tr>\n",
       "      <th>99</th>\n",
       "      <td>6</td>\n",
       "      <td>0.857500</td>\n",
       "      <td>バスケ</td>\n",
       "      <td>10.047363</td>\n",
       "    </tr>\n",
       "  </tbody>\n",
       "</table>\n",
       "<p>100 rows × 4 columns</p>\n",
       "</div>"
      ],
      "text/plain": [
       "    1週間に何回、運動をしていますか？  1日に摂取する水の量はどのくらいですか？ 最も好きな運動は何ですか？  睡眠時間は平均して何時間ですか？\n",
       "0                   4              2.628471           バスケ         13.302334\n",
       "1                   3              1.690676           テニス         21.558928\n",
       "2                   4              2.551806           テニス          9.333607\n",
       "3                   4              1.632503          サッカー          7.529754\n",
       "4                   3              2.208212           テニス          4.869905\n",
       "..                ...                   ...           ...               ...\n",
       "95                  3              2.850985           テニス          4.059686\n",
       "96                  4              1.741371           バスケ         12.457003\n",
       "97                  0              2.873948           テニス          7.950638\n",
       "98                  5              1.487113           テニス         19.900786\n",
       "99                  6              0.857500           バスケ         10.047363\n",
       "\n",
       "[100 rows x 4 columns]"
      ]
     },
     "execution_count": 201,
     "metadata": {},
     "output_type": "execute_result"
    }
   ],
   "source": [
    "df = pd.read_csv('raw-data/健康習慣.csv').drop(document_columns, axis=1)\n",
    "df"
   ]
  },
  {
   "cell_type": "code",
   "execution_count": 202,
   "metadata": {},
   "outputs": [
    {
     "data": {
      "text/html": [
       "<div>\n",
       "<style scoped>\n",
       "    .dataframe tbody tr th:only-of-type {\n",
       "        vertical-align: middle;\n",
       "    }\n",
       "\n",
       "    .dataframe tbody tr th {\n",
       "        vertical-align: top;\n",
       "    }\n",
       "\n",
       "    .dataframe thead th {\n",
       "        text-align: right;\n",
       "    }\n",
       "</style>\n",
       "<table border=\"1\" class=\"dataframe\">\n",
       "  <thead>\n",
       "    <tr style=\"text-align: right;\">\n",
       "      <th></th>\n",
       "      <th>1週間に何回、運動をしていますか？</th>\n",
       "      <th>1日に摂取する水の量はどのくらいですか？</th>\n",
       "      <th>最も好きな運動は何ですか？</th>\n",
       "      <th>睡眠時間は平均して何時間ですか？</th>\n",
       "    </tr>\n",
       "  </thead>\n",
       "  <tbody>\n",
       "    <tr>\n",
       "      <th>0</th>\n",
       "      <td>4</td>\n",
       "      <td>2.628471</td>\n",
       "      <td>2</td>\n",
       "      <td>13.302334</td>\n",
       "    </tr>\n",
       "    <tr>\n",
       "      <th>1</th>\n",
       "      <td>3</td>\n",
       "      <td>1.690676</td>\n",
       "      <td>1</td>\n",
       "      <td>21.558928</td>\n",
       "    </tr>\n",
       "    <tr>\n",
       "      <th>2</th>\n",
       "      <td>4</td>\n",
       "      <td>2.551806</td>\n",
       "      <td>1</td>\n",
       "      <td>9.333607</td>\n",
       "    </tr>\n",
       "    <tr>\n",
       "      <th>3</th>\n",
       "      <td>4</td>\n",
       "      <td>1.632503</td>\n",
       "      <td>0</td>\n",
       "      <td>7.529754</td>\n",
       "    </tr>\n",
       "    <tr>\n",
       "      <th>4</th>\n",
       "      <td>3</td>\n",
       "      <td>2.208212</td>\n",
       "      <td>1</td>\n",
       "      <td>4.869905</td>\n",
       "    </tr>\n",
       "    <tr>\n",
       "      <th>...</th>\n",
       "      <td>...</td>\n",
       "      <td>...</td>\n",
       "      <td>...</td>\n",
       "      <td>...</td>\n",
       "    </tr>\n",
       "    <tr>\n",
       "      <th>95</th>\n",
       "      <td>3</td>\n",
       "      <td>2.850985</td>\n",
       "      <td>1</td>\n",
       "      <td>4.059686</td>\n",
       "    </tr>\n",
       "    <tr>\n",
       "      <th>96</th>\n",
       "      <td>4</td>\n",
       "      <td>1.741371</td>\n",
       "      <td>2</td>\n",
       "      <td>12.457003</td>\n",
       "    </tr>\n",
       "    <tr>\n",
       "      <th>97</th>\n",
       "      <td>0</td>\n",
       "      <td>2.873948</td>\n",
       "      <td>1</td>\n",
       "      <td>7.950638</td>\n",
       "    </tr>\n",
       "    <tr>\n",
       "      <th>98</th>\n",
       "      <td>5</td>\n",
       "      <td>1.487113</td>\n",
       "      <td>1</td>\n",
       "      <td>19.900786</td>\n",
       "    </tr>\n",
       "    <tr>\n",
       "      <th>99</th>\n",
       "      <td>6</td>\n",
       "      <td>0.857500</td>\n",
       "      <td>2</td>\n",
       "      <td>10.047363</td>\n",
       "    </tr>\n",
       "  </tbody>\n",
       "</table>\n",
       "<p>100 rows × 4 columns</p>\n",
       "</div>"
      ],
      "text/plain": [
       "    1週間に何回、運動をしていますか？  1日に摂取する水の量はどのくらいですか？  最も好きな運動は何ですか？  睡眠時間は平均して何時間ですか？\n",
       "0                   4              2.628471              2         13.302334\n",
       "1                   3              1.690676              1         21.558928\n",
       "2                   4              2.551806              1          9.333607\n",
       "3                   4              1.632503              0          7.529754\n",
       "4                   3              2.208212              1          4.869905\n",
       "..                ...                   ...            ...               ...\n",
       "95                  3              2.850985              1          4.059686\n",
       "96                  4              1.741371              2         12.457003\n",
       "97                  0              2.873948              1          7.950638\n",
       "98                  5              1.487113              1         19.900786\n",
       "99                  6              0.857500              2         10.047363\n",
       "\n",
       "[100 rows x 4 columns]"
      ]
     },
     "execution_count": 202,
     "metadata": {},
     "output_type": "execute_result"
    }
   ],
   "source": [
    "oe = OrdinalEncoder()\n",
    "df[string_columns] = oe.fit_transform(df[string_columns]).astype(int)\n",
    "df"
   ]
  },
  {
   "cell_type": "code",
   "execution_count": 203,
   "metadata": {},
   "outputs": [
    {
     "data": {
      "text/plain": [
       "True"
      ]
     },
     "execution_count": 203,
     "metadata": {},
     "output_type": "execute_result"
    }
   ],
   "source": [
    "context = create_ctx()\n",
    "with open(\"enc-data/context.joblib\", \"wb\") as f:\n",
    "    f.write(context.serialize(save_secret_key=True))\n",
    "context.is_private()"
   ]
  },
  {
   "cell_type": "code",
   "execution_count": 204,
   "metadata": {},
   "outputs": [
    {
     "data": {
      "text/plain": [
       "False"
      ]
     },
     "execution_count": 204,
     "metadata": {},
     "output_type": "execute_result"
    }
   ],
   "source": [
    "pubctx = context.copy()\n",
    "pubctx.make_context_public()\n",
    "pubctx.is_private()"
   ]
  },
  {
   "cell_type": "code",
   "execution_count": 205,
   "metadata": {},
   "outputs": [],
   "source": [
    "enclist = list()\n",
    "for i, row in df.iterrows():\n",
    "    rawdata = row.values\n",
    "    encdata = ts.ckks_vector(context, rawdata)\n",
    "    enclist.append(encdata)"
   ]
  },
  {
   "cell_type": "code",
   "execution_count": 206,
   "metadata": {},
   "outputs": [],
   "source": [
    "def tenseal_save(enclist, filename=\"enc-data/main\"):\n",
    "    metaenclist = list()\n",
    "    with open(f\"{filename}.tso\", \"wb\") as f:\n",
    "        for data in enclist:\n",
    "            data = data.serialize()\n",
    "            f.write(data)\n",
    "            metaenclist.append(len(data))\n",
    "    joblib.dump(metaenclist, f\"{filename}-meta.joblib\")"
   ]
  },
  {
   "cell_type": "code",
   "execution_count": 207,
   "metadata": {},
   "outputs": [],
   "source": [
    "joblib.dump(pubctx.serialize(), \"enc-data/public_context.joblib\")\n",
    "joblib.dump(oe, \"enc-data/ordinalencoder.joblib\")\n",
    "tenseal_save(enclist, filename=\"enc-data/main\")"
   ]
  }
 ],
 "metadata": {
  "kernelspec": {
   "display_name": "Python 3",
   "language": "python",
   "name": "python3"
  },
  "language_info": {
   "codemirror_mode": {
    "name": "ipython",
    "version": 3
   },
   "file_extension": ".py",
   "mimetype": "text/x-python",
   "name": "python",
   "nbconvert_exporter": "python",
   "pygments_lexer": "ipython3",
   "version": "3.10.5"
  }
 },
 "nbformat": 4,
 "nbformat_minor": 2
}
