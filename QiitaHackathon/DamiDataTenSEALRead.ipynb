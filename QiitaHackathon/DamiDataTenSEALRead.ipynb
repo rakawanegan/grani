{
 "cells": [
  {
   "cell_type": "markdown",
   "metadata": {},
   "source": [
    "TenSEALの使い方(復号化)\n",
    "==="
   ]
  },
  {
   "cell_type": "code",
   "execution_count": 1,
   "metadata": {},
   "outputs": [
    {
     "name": "stdout",
     "output_type": "stream",
     "text": [
      "Requirement already satisfied: tenseal in c:\\users\\nakag\\appdata\\local\\programs\\python\\python310\\lib\\site-packages (0.3.14)\n",
      "Note: you may need to restart the kernel to use updated packages.\n"
     ]
    }
   ],
   "source": [
    "%pip install tenseal"
   ]
  },
  {
   "cell_type": "code",
   "execution_count": 2,
   "metadata": {},
   "outputs": [],
   "source": [
    "import tenseal as ts\n",
    "import pandas as pd\n",
    "import joblib"
   ]
  },
  {
   "cell_type": "code",
   "execution_count": 3,
   "metadata": {},
   "outputs": [],
   "source": [
    "def tenseal_load(filename=\"enc-data/main\"):\n",
    "    metaenclist = joblib.load(f\"{filename}-meta.joblib\")\n",
    "    enclist = list()\n",
    "    with open(f\"{filename}.tso\", \"rb\") as f:\n",
    "        for size in metaenclist:\n",
    "            data = f.read(size)\n",
    "            enclist.append(data)\n",
    "    return enclist"
   ]
  },
  {
   "cell_type": "code",
   "execution_count": 4,
   "metadata": {},
   "outputs": [],
   "source": [
    "with open(\"enc-data/context.joblib\", \"rb\") as f:\n",
    "    context= f.read()\n",
    "ctx = ts.context_from(context)\n",
    "ctx.is_private()\n",
    "\n",
    "enclist = tenseal_load(filename=\"enc-data/preds\")"
   ]
  },
  {
   "cell_type": "code",
   "execution_count": 5,
   "metadata": {},
   "outputs": [],
   "source": [
    "declist = list()\n",
    "for enc_data in enclist:\n",
    "    enc = ts.ckks_vector_from(ctx, enc_data)\n",
    "    declist.append(enc.decrypt())"
   ]
  },
  {
   "cell_type": "code",
   "execution_count": 6,
   "metadata": {},
   "outputs": [],
   "source": [
    "df = pd.read_csv(\"raw-data/健康習慣.csv\")"
   ]
  },
  {
   "cell_type": "code",
   "execution_count": 7,
   "metadata": {},
   "outputs": [],
   "source": [
    "idx = 1"
   ]
  },
  {
   "cell_type": "code",
   "execution_count": 8,
   "metadata": {},
   "outputs": [
    {
     "data": {
      "text/plain": [
       "1週間に何回、運動をしていますか？                           3\n",
       "1日に摂取する水の量はどのくらいですか？                 1.690676\n",
       "最も好きな運動は何ですか？                             テニス\n",
       "日常生活で心がけている健康習慣はどんなものですか？    バランスの取れた食事を心がける。\n",
       "睡眠時間は平均して何時間ですか？                    21.558928\n",
       "Name: 1, dtype: object"
      ]
     },
     "execution_count": 8,
     "metadata": {},
     "output_type": "execute_result"
    }
   ],
   "source": [
    "df.iloc[idx]"
   ]
  },
  {
   "cell_type": "code",
   "execution_count": 9,
   "metadata": {},
   "outputs": [
    {
     "data": {
      "text/plain": [
       "[0.3899428368313949]"
      ]
     },
     "execution_count": 9,
     "metadata": {},
     "output_type": "execute_result"
    }
   ],
   "source": [
    "declist[idx]"
   ]
  }
 ],
 "metadata": {
  "kernelspec": {
   "display_name": "Python 3",
   "language": "python",
   "name": "python3"
  },
  "language_info": {
   "codemirror_mode": {
    "name": "ipython",
    "version": 3
   },
   "file_extension": ".py",
   "mimetype": "text/x-python",
   "name": "python",
   "nbconvert_exporter": "python",
   "pygments_lexer": "ipython3",
   "version": "3.10.5"
  }
 },
 "nbformat": 4,
 "nbformat_minor": 2
}
