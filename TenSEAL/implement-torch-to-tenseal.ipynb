{
 "cells": [
  {
   "cell_type": "code",
   "execution_count": 155,
   "metadata": {},
   "outputs": [],
   "source": [
    "import re\n",
    "import tenseal as ts\n",
    "from torch import nn\n",
    "from torch.nn import functional as F"
   ]
  },
  {
   "cell_type": "code",
   "execution_count": 156,
   "metadata": {},
   "outputs": [],
   "source": [
    "def create_ctx():\n",
    "    \"\"\"Helper for creating the CKKS context.\n",
    "    CKKS params:\n",
    "        - Polynomial degree: 8192.\n",
    "        - Coefficient modulus size: [40, 21, 21, 21, 21, 21, 21, 40].\n",
    "        - Scale: 2 ** 21.\n",
    "        - The setup requires the Galois keys for evaluating the convolutions.\n",
    "    \"\"\"\n",
    "    poly_mod_degree = 8192\n",
    "    coeff_mod_bit_sizes = [40, 21, 21, 21, 21, 21, 21, 40]\n",
    "    ctx = ts.context(ts.SCHEME_TYPE.CKKS, poly_mod_degree, -1, coeff_mod_bit_sizes)\n",
    "    ctx.global_scale = 2 ** 21\n",
    "    ctx.generate_galois_keys()\n",
    "    ctx.generate_relin_keys()\n",
    "    return ctx"
   ]
  },
  {
   "cell_type": "code",
   "execution_count": 157,
   "metadata": {},
   "outputs": [],
   "source": [
    "class BaseModel(nn.Module):\n",
    "    def __init__(self, input_size, hidden_size, output_size):\n",
    "        super(BaseModel, self).__init__()\n",
    "        self.fc = nn.Linear(input_size, hidden_size)\n",
    "        self.fc2 = nn.Linear(hidden_size, output_size)\n",
    "    \n",
    "    def forward(self, x):\n",
    "        x = self.fc(x)\n",
    "        x = F.sigmoid(x)\n",
    "        x = self.fc2(x)\n",
    "        x = F.sigmoid(x)\n",
    "        return x"
   ]
  },
  {
   "cell_type": "code",
   "execution_count": 158,
   "metadata": {},
   "outputs": [],
   "source": [
    "def sigmoid(enc_x):\n",
    "    return enc_x.polyval([0.5, 0.197, 0, -0.004])\n",
    "\n",
    "def encript_param(state_dict:nn.Module.state_dict, ctx:ts.context) -> dict:\n",
    "    encripted_state_dict = dict()\n",
    "    for name, param in state_dict.items():\n",
    "        encripted_state_dict[name] = ts.ckks_tensor(ctx, param)\n",
    "    return encripted_state_dict"
   ]
  },
  {
   "cell_type": "code",
   "execution_count": 159,
   "metadata": {},
   "outputs": [],
   "source": [
    "ctx = create_ctx()"
   ]
  },
  {
   "cell_type": "code",
   "execution_count": 160,
   "metadata": {},
   "outputs": [],
   "source": [
    "model = BaseModel(2, 2, 1)"
   ]
  },
  {
   "cell_type": "code",
   "execution_count": 161,
   "metadata": {},
   "outputs": [
    {
     "data": {
      "text/plain": [
       "OrderedDict([('fc.weight',\n",
       "              tensor([[-0.0408,  0.5956],\n",
       "                      [-0.0229, -0.2333]])),\n",
       "             ('fc.bias', tensor([-0.3405, -0.6082])),\n",
       "             ('fc2.weight', tensor([[-0.0193, -0.5482]])),\n",
       "             ('fc2.bias', tensor([0.2462]))])"
      ]
     },
     "execution_count": 161,
     "metadata": {},
     "output_type": "execute_result"
    }
   ],
   "source": [
    "model.state_dict()"
   ]
  },
  {
   "cell_type": "code",
   "execution_count": 162,
   "metadata": {},
   "outputs": [
    {
     "data": {
      "text/plain": [
       "{'fc.weight': <tenseal.tensors.ckkstensor.CKKSTensor at 0x1be2f15fd60>,\n",
       " 'fc.bias': <tenseal.tensors.ckkstensor.CKKSTensor at 0x1be27f02170>,\n",
       " 'fc2.weight': <tenseal.tensors.ckkstensor.CKKSTensor at 0x1be27f019c0>,\n",
       " 'fc2.bias': <tenseal.tensors.ckkstensor.CKKSTensor at 0x1be27f006a0>}"
      ]
     },
     "execution_count": 162,
     "metadata": {},
     "output_type": "execute_result"
    }
   ],
   "source": [
    "encript_param(model.state_dict(), ctx)"
   ]
  },
  {
   "cell_type": "code",
   "execution_count": 163,
   "metadata": {},
   "outputs": [
    {
     "name": "stdout",
     "output_type": "stream",
     "text": [
      "    def forward(self, x):\n",
      "        x = self.fc(x)\n",
      "        x = F.sigmoid(x)\n",
      "        x = self.fc2(x)\n",
      "        x = F.sigmoid(x)\n",
      "        return x\n",
      "\n"
     ]
    }
   ],
   "source": [
    "import inspect\n",
    "\n",
    "\n",
    "# BaseModelクラスのforwardメソッドを取得\n",
    "forward_method = getattr(model, 'forward')\n",
    "\n",
    "# forwardメソッドのソースコードを取得\n",
    "forward_source = inspect.getsource(forward_method)\n",
    "\n",
    "# forwardメソッドのソースコードを表示\n",
    "print(forward_source)"
   ]
  },
  {
   "cell_type": "code",
   "execution_count": 166,
   "metadata": {},
   "outputs": [],
   "source": [
    "def remove_oneindent(text):\n",
    "    return re.sub(r'^    ', '', text, flags=re.MULTILINE)\n",
    "\n",
    "def remove_type_hint(text):\n",
    "    return re.sub(r':.*,', '', text)\n",
    "\n",
    "def remove_return(text):\n",
    "    return re.sub(r'^    return ', '', text, flags=re.MULTILINE)\n",
    "\n",
    "def get_midparam(text):\n",
    "    pattern = r'^.*='\n",
    "    match = re.findall(pattern, text)[0]\n",
    "    match = match.replace(\" \", \"\")\n",
    "    match = match.replace(\"=\", \"\")\n",
    "    match = match.replace(\"+\", \"\")\n",
    "    return match\n",
    "\n",
    "def get_content_in_brackets(text):\n",
    "    pattern = r'\\((.*?)\\)'\n",
    "    matches = re.findall(pattern, text)\n",
    "    return matches\n",
    "\n",
    "def get_input_params(forward_sourcelist: list[str]) -> list[str]:\n",
    "    in_brackets_first = get_content_in_brackets(forward_sourcelist[0])[0]\n",
    "    input_params = in_brackets_first.replace(\" \",\"\").split(\",\")\n",
    "    input_params = [remove_type_hint(param) for param in input_params]\n",
    "    return input_params[1:] # exclude self\n",
    "\n",
    "def get_output_params(forward_sourcelist: list[str]) -> str:\n",
    "    return remove_return(forward_sourcelist[-1])\n",
    "\n",
    "def get_midput_params(forward_sourcelist: list[str]) -> list[str]:\n",
    "    process_sourcelist = forward_sourcelist[1:-1]\n",
    "    process_sourcelist = [remove_oneindent(process_source) for process_source in process_sourcelist]\n",
    "    midput_params = [get_midparam(process_source) for process_source in process_sourcelist]\n",
    "    midput_params = list(set(midput_params))\n",
    "    return midput_params"
   ]
  },
  {
   "cell_type": "code",
   "execution_count": 167,
   "metadata": {},
   "outputs": [
    {
     "name": "stdout",
     "output_type": "stream",
     "text": [
      "def forward(self, x):\n",
      "    x = self.fc(x)\n",
      "    x = F.sigmoid(x)\n",
      "    x = self.fc2(x)\n",
      "    x = F.sigmoid(x)\n",
      "    return x\n",
      "\n"
     ]
    }
   ],
   "source": [
    "forward_source = remove_oneindent(forward_source)\n",
    "print(forward_source)"
   ]
  },
  {
   "cell_type": "code",
   "execution_count": 168,
   "metadata": {},
   "outputs": [
    {
     "data": {
      "text/plain": [
       "['def forward(self, x):',\n",
       " '    x = self.fc(x)',\n",
       " '    x = F.sigmoid(x)',\n",
       " '    x = self.fc2(x)',\n",
       " '    x = F.sigmoid(x)',\n",
       " '    return x']"
      ]
     },
     "execution_count": 168,
     "metadata": {},
     "output_type": "execute_result"
    }
   ],
   "source": [
    "forward_sourcelist = list(filter(None, forward_source.split('\\n')))\n",
    "forward_sourcelist"
   ]
  },
  {
   "cell_type": "code",
   "execution_count": 169,
   "metadata": {},
   "outputs": [
    {
     "name": "stdout",
     "output_type": "stream",
     "text": [
      "['x']\n"
     ]
    }
   ],
   "source": [
    "input_param = get_input_params(forward_sourcelist)\n",
    "print(input_param)"
   ]
  },
  {
   "cell_type": "code",
   "execution_count": 170,
   "metadata": {},
   "outputs": [
    {
     "name": "stdout",
     "output_type": "stream",
     "text": [
      "['x']\n"
     ]
    }
   ],
   "source": [
    "midput_param = get_midput_params(forward_sourcelist)\n",
    "print(midput_param)"
   ]
  },
  {
   "cell_type": "code",
   "execution_count": 175,
   "metadata": {},
   "outputs": [
    {
     "data": {
      "text/plain": [
       "{'self.fc': Linear(in_features=2, out_features=2, bias=True),\n",
       " 'self.fc2': Linear(in_features=2, out_features=1, bias=True)}"
      ]
     },
     "execution_count": 175,
     "metadata": {},
     "output_type": "execute_result"
    }
   ],
   "source": [
    "attrs = set(dir(model)) - set(dir(nn.Module()))\n",
    "instance_params_dict = {f\"self.{attr}\": getattr(model, attr) for attr in attrs if (callable(getattr(model, attr)))&(type(getattr(model, attr))!=\"method\")}\n",
    "instance_params_dict"
   ]
  },
  {
   "cell_type": "code",
   "execution_count": 171,
   "metadata": {},
   "outputs": [
    {
     "name": "stdout",
     "output_type": "stream",
     "text": [
      "x\n"
     ]
    }
   ],
   "source": [
    "output_param = get_output_params(forward_sourcelist)\n",
    "print(output_param)"
   ]
  },
  {
   "cell_type": "code",
   "execution_count": 172,
   "metadata": {},
   "outputs": [
    {
     "name": "stdout",
     "output_type": "stream",
     "text": [
      "x = self.fc(x)\n",
      "x = F.sigmoid(x)\n",
      "x = self.fc2(x)\n",
      "x = F.sigmoid(x)\n"
     ]
    }
   ],
   "source": [
    "# show process\n",
    "process = forward_sourcelist[1:-1]\n",
    "process = [remove_oneindent(remove_type_hint(prc)) for prc in process]\n",
    "for prc in process:\n",
    "    print(prc)"
   ]
  }
 ],
 "metadata": {
  "kernelspec": {
   "display_name": "Python 3",
   "language": "python",
   "name": "python3"
  },
  "language_info": {
   "codemirror_mode": {
    "name": "ipython",
    "version": 3
   },
   "file_extension": ".py",
   "mimetype": "text/x-python",
   "name": "python",
   "nbconvert_exporter": "python",
   "pygments_lexer": "ipython3",
   "version": "3.10.5"
  }
 },
 "nbformat": 4,
 "nbformat_minor": 2
}
