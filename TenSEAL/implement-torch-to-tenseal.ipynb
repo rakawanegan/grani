{
 "cells": [
  {
   "cell_type": "code",
   "execution_count": 2,
   "metadata": {},
   "outputs": [],
   "source": [
    "import re\n",
    "import tenseal as ts\n",
    "from torch import nn\n",
    "from torch.nn import functional as F"
   ]
  },
  {
   "cell_type": "code",
   "execution_count": 3,
   "metadata": {},
   "outputs": [],
   "source": [
    "def create_ctx():\n",
    "    \"\"\"Helper for creating the CKKS context.\n",
    "    CKKS params:\n",
    "        - Polynomial degree: 8192.\n",
    "        - Coefficient modulus size: [40, 21, 21, 21, 21, 21, 21, 40].\n",
    "        - Scale: 2 ** 21.\n",
    "        - The setup requires the Galois keys for evaluating the convolutions.\n",
    "    \"\"\"\n",
    "    poly_mod_degree = 8192\n",
    "    coeff_mod_bit_sizes = [40, 21, 21, 21, 21, 21, 21, 40]\n",
    "    ctx = ts.context(ts.SCHEME_TYPE.CKKS, poly_mod_degree, -1, coeff_mod_bit_sizes)\n",
    "    ctx.global_scale = 2 ** 21\n",
    "    ctx.generate_galois_keys()\n",
    "    ctx.generate_relin_keys()\n",
    "    return ctx"
   ]
  },
  {
   "cell_type": "code",
   "execution_count": 4,
   "metadata": {},
   "outputs": [],
   "source": [
    "class BaseModel(nn.Module):\n",
    "    def __init__(self, input_size, hidden_size, output_size):\n",
    "        super(BaseModel, self).__init__()\n",
    "        self.fc = nn.Linear(input_size, hidden_size, bias=False)\n",
    "        self.fc2 = nn.Linear(hidden_size, output_size)\n",
    "    \n",
    "    def forward(self, x):\n",
    "        x = self.fc(x)\n",
    "        x = F.sigmoid(x)\n",
    "        x = self.fc2(x)\n",
    "        x = F.sigmoid(x)\n",
    "        return x"
   ]
  },
  {
   "cell_type": "code",
   "execution_count": 5,
   "metadata": {},
   "outputs": [],
   "source": [
    "def sigmoid(enc_x):\n",
    "    return enc_x.polyval([0.5, 0.197, 0, -0.004])\n",
    "\n",
    "def encript_param(state_dict:nn.Module.state_dict, ctx:ts.context) -> dict:\n",
    "    encripted_state_dict = dict()\n",
    "    for name, param in state_dict.items():\n",
    "        encripted_state_dict[name] = ts.ckks_tensor(ctx, param)\n",
    "    return encripted_state_dict"
   ]
  },
  {
   "cell_type": "code",
   "execution_count": 6,
   "metadata": {},
   "outputs": [],
   "source": [
    "ctx = create_ctx()"
   ]
  },
  {
   "cell_type": "code",
   "execution_count": 7,
   "metadata": {},
   "outputs": [],
   "source": [
    "model = BaseModel(2, 2, 1)"
   ]
  },
  {
   "cell_type": "code",
   "execution_count": 8,
   "metadata": {},
   "outputs": [
    {
     "data": {
      "text/plain": [
       "OrderedDict([('fc.weight',\n",
       "              tensor([[-0.1827, -0.4086],\n",
       "                      [-0.2119, -0.4258]])),\n",
       "             ('fc2.weight', tensor([[ 0.1569, -0.2480]])),\n",
       "             ('fc2.bias', tensor([0.6575]))])"
      ]
     },
     "execution_count": 8,
     "metadata": {},
     "output_type": "execute_result"
    }
   ],
   "source": [
    "model.state_dict()"
   ]
  },
  {
   "cell_type": "code",
   "execution_count": 9,
   "metadata": {},
   "outputs": [
    {
     "data": {
      "text/plain": [
       "{'fc.weight': <tenseal.tensors.ckkstensor.CKKSTensor at 0x28369421b70>,\n",
       " 'fc2.weight': <tenseal.tensors.ckkstensor.CKKSTensor at 0x2836a779b10>,\n",
       " 'fc2.bias': <tenseal.tensors.ckkstensor.CKKSTensor at 0x2836a77b460>}"
      ]
     },
     "execution_count": 9,
     "metadata": {},
     "output_type": "execute_result"
    }
   ],
   "source": [
    "encript_param(model.state_dict(), ctx)"
   ]
  },
  {
   "cell_type": "code",
   "execution_count": 10,
   "metadata": {},
   "outputs": [
    {
     "name": "stdout",
     "output_type": "stream",
     "text": [
      "    def forward(self, x):\n",
      "        x = self.fc(x)\n",
      "        x = F.sigmoid(x)\n",
      "        x = self.fc2(x)\n",
      "        x = F.sigmoid(x)\n",
      "        return x\n",
      "\n"
     ]
    }
   ],
   "source": [
    "import inspect\n",
    "\n",
    "\n",
    "# BaseModelクラスのforwardメソッドを取得\n",
    "forward_method = getattr(model, 'forward')\n",
    "\n",
    "# forwardメソッドのソースコードを取得\n",
    "forward_source = inspect.getsource(forward_method)\n",
    "\n",
    "# forwardメソッドのソースコードを表示\n",
    "print(forward_source)"
   ]
  },
  {
   "cell_type": "code",
   "execution_count": 11,
   "metadata": {},
   "outputs": [],
   "source": [
    "def remove_oneindent(text):\n",
    "    return re.sub(r'^    ', '', text, flags=re.MULTILINE)\n",
    "\n",
    "def remove_type_hint(text):\n",
    "    return re.sub(r':.*,', '', text)\n",
    "\n",
    "def remove_return(text):\n",
    "    return re.sub(r'^    return ', '', text, flags=re.MULTILINE)\n",
    "\n",
    "def remove_brackets(text):\n",
    "    pattern = r'\\((.*?)\\)'\n",
    "    return re.sub(pattern, '', text)\n",
    "\n",
    "def get_midparam(text):\n",
    "    pattern = r'^.*='\n",
    "    match = re.findall(pattern, text)[0]\n",
    "    match = match.replace(\" \", \"\")\n",
    "    match = match.replace(\"=\", \"\")\n",
    "    match = match.replace(\"+\", \"\")\n",
    "    return match\n",
    "\n",
    "def get_midprocess(text):\n",
    "    pattern = r'=.*'\n",
    "    match = re.findall(pattern, text)[0]\n",
    "    match = match.replace(\" \", \"\")\n",
    "    match = match.replace(\"=\", \"\")\n",
    "    return match\n",
    "\n",
    "def get_content_in_brackets(text):\n",
    "    pattern = r'\\((.*?)\\)'\n",
    "    matches = re.findall(pattern, text)\n",
    "    return matches\n",
    "\n",
    "def get_input_params(forward_sourcelist: list[str]) -> list[str]:\n",
    "    in_brackets_first = get_content_in_brackets(forward_sourcelist[0])[0]\n",
    "    input_params = in_brackets_first.replace(\" \",\"\").split(\",\")\n",
    "    input_params = [remove_type_hint(param) for param in input_params]\n",
    "    return input_params[1:] # exclude self\n",
    "\n",
    "def get_output_params(forward_sourcelist: list[str]) -> str:\n",
    "    return remove_return(forward_sourcelist[-1])\n",
    "\n",
    "def get_midput_params(forward_sourcelist: list[str]) -> list[str]:\n",
    "    process_sourcelist = forward_sourcelist[1:-1]\n",
    "    process_sourcelist = [remove_oneindent(process_source) for process_source in process_sourcelist]\n",
    "    midput_params = [get_midparam(process_source) for process_source in process_sourcelist]\n",
    "    midput_params = list(set(midput_params))\n",
    "    return midput_params\n",
    "\n",
    "def get_midput_processes(forward_sourcelist: list[str]) -> list[str]:\n",
    "    process_sourcelist = forward_sourcelist[1:-1]\n",
    "    process_sourcelist = [remove_oneindent(process_source) for process_source in process_sourcelist]\n",
    "    midput_processes = [get_midprocess(process_source) for process_source in process_sourcelist]\n",
    "    return midput_processes"
   ]
  },
  {
   "cell_type": "code",
   "execution_count": 12,
   "metadata": {},
   "outputs": [
    {
     "name": "stdout",
     "output_type": "stream",
     "text": [
      "def forward(self, x):\n",
      "    x = self.fc(x)\n",
      "    x = F.sigmoid(x)\n",
      "    x = self.fc2(x)\n",
      "    x = F.sigmoid(x)\n",
      "    return x\n",
      "\n"
     ]
    }
   ],
   "source": [
    "forward_source = remove_oneindent(forward_source)\n",
    "print(forward_source)"
   ]
  },
  {
   "cell_type": "code",
   "execution_count": 13,
   "metadata": {},
   "outputs": [
    {
     "data": {
      "text/plain": [
       "['def forward(self, x):',\n",
       " '    x = self.fc(x)',\n",
       " '    x = F.sigmoid(x)',\n",
       " '    x = self.fc2(x)',\n",
       " '    x = F.sigmoid(x)',\n",
       " '    return x']"
      ]
     },
     "execution_count": 13,
     "metadata": {},
     "output_type": "execute_result"
    }
   ],
   "source": [
    "forward_sourcelist = list(filter(None, forward_source.split('\\n')))\n",
    "forward_sourcelist"
   ]
  },
  {
   "cell_type": "code",
   "execution_count": 14,
   "metadata": {},
   "outputs": [
    {
     "name": "stdout",
     "output_type": "stream",
     "text": [
      "['x']\n"
     ]
    }
   ],
   "source": [
    "input_params = get_input_params(forward_sourcelist)\n",
    "print(input_params)"
   ]
  },
  {
   "cell_type": "code",
   "execution_count": 15,
   "metadata": {},
   "outputs": [
    {
     "name": "stdout",
     "output_type": "stream",
     "text": [
      "['x']\n"
     ]
    }
   ],
   "source": [
    "midput_params = get_midput_params(forward_sourcelist)\n",
    "print(midput_params)"
   ]
  },
  {
   "cell_type": "code",
   "execution_count": 16,
   "metadata": {},
   "outputs": [
    {
     "name": "stdout",
     "output_type": "stream",
     "text": [
      "['self.fc', 'F.sigmoid', 'self.fc2', 'F.sigmoid']\n",
      "[['x'], ['x'], ['x'], ['x']]\n"
     ]
    }
   ],
   "source": [
    "midput_processes_base = get_midput_processes(forward_sourcelist)\n",
    "midput_processes_input = [get_content_in_brackets(process_source) for process_source in midput_processes_base]\n",
    "midput_processes = [remove_brackets(process_source) for process_source in midput_processes_base]\n",
    "print(midput_processes)\n",
    "print(midput_processes_input)"
   ]
  },
  {
   "cell_type": "code",
   "execution_count": 17,
   "metadata": {},
   "outputs": [
    {
     "data": {
      "text/plain": [
       "{'fc2': Linear(in_features=2, out_features=1, bias=True),\n",
       " 'fc': Linear(in_features=2, out_features=2, bias=False)}"
      ]
     },
     "execution_count": 17,
     "metadata": {},
     "output_type": "execute_result"
    }
   ],
   "source": [
    "attrs = set(dir(model)) - set(dir(nn.Module()))\n",
    "instance_params_dict = {attr: getattr(model, attr) for attr in attrs if (callable(getattr(model, attr)))&(type(getattr(model, attr))!=\"method\")}\n",
    "instance_params_dict"
   ]
  },
  {
   "cell_type": "code",
   "execution_count": 18,
   "metadata": {},
   "outputs": [
    {
     "data": {
      "text/plain": [
       "{'fc.weight': <tenseal.tensors.ckkstensor.CKKSTensor at 0x28312c42d40>,\n",
       " 'fc2.weight': <tenseal.tensors.ckkstensor.CKKSTensor at 0x28312c41b40>,\n",
       " 'fc2.bias': <tenseal.tensors.ckkstensor.CKKSTensor at 0x28312c42ce0>}"
      ]
     },
     "execution_count": 18,
     "metadata": {},
     "output_type": "execute_result"
    }
   ],
   "source": [
    "encript_param_dict = encript_param(model.state_dict(), ctx)\n",
    "encript_param_dict"
   ]
  },
  {
   "cell_type": "code",
   "execution_count": 19,
   "metadata": {},
   "outputs": [],
   "source": [
    "def get_model_encript_params(paramname:str, encript_param_dict:dict) -> tuple[ts.ckks_tensor, ts.ckks_tensor]:\n",
    "    if type(instance_params_dict.get(paramname)) == nn.Linear:\n",
    "        # return instance_params_dict.get(paramname).weight, instance_params_dict.get(paramname).bias\n",
    "        return encript_param_dict.get(f\"{paramname}.weight\"), encript_param_dict.get(f\"{paramname}.bias\")"
   ]
  },
  {
   "cell_type": "code",
   "execution_count": 20,
   "metadata": {},
   "outputs": [
    {
     "data": {
      "text/plain": [
       "[2, 2]"
      ]
     },
     "execution_count": 20,
     "metadata": {},
     "output_type": "execute_result"
    }
   ],
   "source": [
    "get_model_encript_params(\"fc\", encript_param_dict)"
   ]
  },
  {
   "cell_type": "code",
   "execution_count": 21,
   "metadata": {},
   "outputs": [
    {
     "data": {
      "text/plain": [
       "(<tenseal.tensors.ckkstensor.CKKSTensor at 0x28312c41b40>,\n",
       " <tenseal.tensors.ckkstensor.CKKSTensor at 0x28312c42ce0>)"
      ]
     },
     "execution_count": 21,
     "metadata": {},
     "output_type": "execute_result"
    }
   ],
   "source": [
    "get_model_encript_params(\"fc2\", encript_param_dict)"
   ]
  },
  {
   "cell_type": "code",
   "execution_count": 22,
   "metadata": {},
   "outputs": [],
   "source": [
    "class encript_foward_linear:\n",
    "    def __init__(self, paramname, encript_param_dict:dict):\n",
    "        self.weight = encript_param_dict.get(f\"{paramname}.weight\")\n",
    "        self.bias = encript_param_dict.get(f\"{paramname}.bias\")\n",
    "    def forward(self, enc_x):\n",
    "        return enc_x.mm(self.weight)#.add(self.bias)\n",
    "    \n",
    "fc = encript_foward_linear(\"fc\", encript_param_dict)"
   ]
  },
  {
   "cell_type": "code",
   "execution_count": null,
   "metadata": {},
   "outputs": [
    {
     "ename": "",
     "evalue": "",
     "output_type": "error",
     "traceback": [
      "\u001b[1;31mThe Kernel crashed while executing code in the current cell or a previous cell. \n",
      "\u001b[1;31mPlease review the code in the cell(s) to identify a possible cause of the failure. \n",
      "\u001b[1;31mClick <a href='https://aka.ms/vscodeJupyterKernelCrash'>here</a> for more info. \n",
      "\u001b[1;31mView Jupyter <a href='command:jupyter.viewOutput'>log</a> for further details."
     ]
    }
   ],
   "source": [
    "fc.forward(ts.ckks_tensor(ctx, [1, 2]))"
   ]
  },
  {
   "cell_type": "code",
   "execution_count": null,
   "metadata": {},
   "outputs": [
    {
     "name": "stdout",
     "output_type": "stream",
     "text": [
      "x\n"
     ]
    }
   ],
   "source": [
    "output_params = get_output_params(forward_sourcelist)\n",
    "print(output_params)"
   ]
  },
  {
   "cell_type": "code",
   "execution_count": null,
   "metadata": {},
   "outputs": [
    {
     "name": "stdout",
     "output_type": "stream",
     "text": [
      "x = self.fc(x)\n",
      "x = F.sigmoid(x)\n",
      "x = self.fc2(x)\n",
      "x = F.sigmoid(x)\n"
     ]
    }
   ],
   "source": [
    "# show process\n",
    "process = forward_sourcelist[1:-1]\n",
    "process = [remove_oneindent(remove_type_hint(prc)) for prc in process]\n",
    "for prc in process:\n",
    "    print(prc)"
   ]
  }
 ],
 "metadata": {
  "kernelspec": {
   "display_name": "Python 3",
   "language": "python",
   "name": "python3"
  },
  "language_info": {
   "codemirror_mode": {
    "name": "ipython",
    "version": 3
   },
   "file_extension": ".py",
   "mimetype": "text/x-python",
   "name": "python",
   "nbconvert_exporter": "python",
   "pygments_lexer": "ipython3",
   "version": "3.10.5"
  }
 },
 "nbformat": 4,
 "nbformat_minor": 2
}
