{
 "cells": [
  {
   "cell_type": "markdown",
   "metadata": {},
   "source": [
    "TenSEALベンチマーク\n",
    "====================\n",
    "4層ニューラルネットワークでのユースケースを考える。  \n",
    "入力は300次元で出力は16次元  \n",
    "大体のアーキテクチャは、(300, 128, 64, 32, 16)に次元を落とす。  \n",
    "バッチサイズを128とし、データ数は最大で３０年分のデータを想定する。  \n",
    "よって、一回のFeedforwardで必要な演算は\n",
    "- 128x300x128のテンソル積、128x128次元の行列和\n",
    "- 128x128x64のテンソル積、128x64次元の行列和\n",
    "- 128x64x32のテンソル積、128x32次元の行列和\n",
    "- 128x32x16のテンソル積、128x16次元の行列和\n",
    "これを繰り返し行う回数としてと考えると、  \n"
   ]
  },
  {
   "cell_type": "code",
   "execution_count": 1,
   "metadata": {},
   "outputs": [
    {
     "name": "stdout",
     "output_type": "stream",
     "text": [
      "Wed Mar  6 23:43:59 2024       \n",
      "+-----------------------------------------------------------------------------+\n",
      "| NVIDIA-SMI 528.24       Driver Version: 528.24       CUDA Version: 12.0     |\n",
      "|-------------------------------+----------------------+----------------------+\n",
      "| GPU  Name            TCC/WDDM | Bus-Id        Disp.A | Volatile Uncorr. ECC |\n",
      "| Fan  Temp  Perf  Pwr:Usage/Cap|         Memory-Usage | GPU-Util  Compute M. |\n",
      "|                               |                      |               MIG M. |\n",
      "|===============================+======================+======================|\n",
      "|   0  NVIDIA GeForce ... WDDM  | 00000000:05:00.0  On |                  N/A |\n",
      "|  0%   45C    P8    16W / 220W |    788MiB /  8192MiB |      5%      Default |\n",
      "|                               |                      |                  N/A |\n",
      "+-------------------------------+----------------------+----------------------+\n",
      "                                                                               \n",
      "+-----------------------------------------------------------------------------+\n",
      "| Processes:                                                                  |\n",
      "|  GPU   GI   CI        PID   Type   Process name                  GPU Memory |\n",
      "|        ID   ID                                                   Usage      |\n",
      "|=============================================================================|\n",
      "|    0   N/A  N/A      2568    C+G   ...lPanel\\SystemSettings.exe    N/A      |\n",
      "|    0   N/A  N/A      3452    C+G   ...ge\\Application\\msedge.exe    N/A      |\n",
      "|    0   N/A  N/A      3476    C+G   ...\\app-1.0.9034\\Discord.exe    N/A      |\n",
      "|    0   N/A  N/A      4496    C+G   ...2txyewy\\TextInputHost.exe    N/A      |\n",
      "|    0   N/A  N/A      5924    C+G   ...perience\\NVIDIA Share.exe    N/A      |\n",
      "|    0   N/A  N/A      9648    C+G   ...n1h2txyewy\\SearchHost.exe    N/A      |\n",
      "|    0   N/A  N/A     10088    C+G   ...y\\ShellExperienceHost.exe    N/A      |\n",
      "|    0   N/A  N/A     10824    C+G   ...artMenuExperienceHost.exe    N/A      |\n",
      "|    0   N/A  N/A     11300    C+G   ...me\\Application\\chrome.exe    N/A      |\n",
      "|    0   N/A  N/A     11736    C+G   ...wekyb3d8bbwe\\Video.UI.exe    N/A      |\n",
      "|    0   N/A  N/A     13408    C+G   ...8wekyb3d8bbwe\\GameBar.exe    N/A      |\n",
      "|    0   N/A  N/A     14108    C+G   ...8bbwe\\WindowsTerminal.exe    N/A      |\n",
      "|    0   N/A  N/A     16360    C+G   C:\\Windows\\explorer.exe         N/A      |\n",
      "|    0   N/A  N/A     17972    C+G   ...77.128\\msedgewebview2.exe    N/A      |\n",
      "|    0   N/A  N/A     18496    C+G   ...n64\\EpicGamesLauncher.exe    N/A      |\n",
      "|    0   N/A  N/A     18588    C+G   ...we\\XboxGameBarWidgets.exe    N/A      |\n",
      "|    0   N/A  N/A     18968    C+G   ...perience\\NVIDIA Share.exe    N/A      |\n",
      "|    0   N/A  N/A     19816    C+G   ...icrosoft VS Code\\Code.exe    N/A      |\n",
      "|    0   N/A  N/A     20148    C+G   ...dows\\System32\\svchost.exe    N/A      |\n",
      "|    0   N/A  N/A     20284    C+G   ...s\\Win64\\EpicWebHelper.exe    N/A      |\n",
      "+-----------------------------------------------------------------------------+\n"
     ]
    }
   ],
   "source": [
    "!nvidia-smi"
   ]
  },
  {
   "cell_type": "code",
   "execution_count": null,
   "metadata": {},
   "outputs": [],
   "source": [
    "%pip install tenseal"
   ]
  },
  {
   "cell_type": "code",
   "execution_count": 2,
   "metadata": {},
   "outputs": [],
   "source": [
    "import time\n",
    "import numpy as np\n",
    "import matplotlib.pyplot as plt\n",
    "import tenseal as ts\n",
    "from contextlib import contextmanager"
   ]
  },
  {
   "cell_type": "code",
   "execution_count": 3,
   "metadata": {},
   "outputs": [],
   "source": [
    "@contextmanager\n",
    "def timer(name):\n",
    "    t0 = time.time()\n",
    "    yield\n",
    "    print(f'[{name}] done in {time.time() - t0:.2f} s')"
   ]
  },
  {
   "cell_type": "code",
   "execution_count": 4,
   "metadata": {},
   "outputs": [],
   "source": [
    "# Create the TenSEAL security context\n",
    "def create_ctx():\n",
    "    \"\"\"Helper for creating the CKKS context.\n",
    "    CKKS params:\n",
    "        - Polynomial degree: 8192.\n",
    "        - Coefficient modulus size: [40, 21, 21, 21, 21, 21, 21, 40].\n",
    "        - Scale: 2 ** 21.\n",
    "        - The setup requires the Galois keys for evaluating the convolutions.\n",
    "    \"\"\"\n",
    "    poly_mod_degree = 8192\n",
    "    coeff_mod_bit_sizes = [40, 21, 21, 21, 21, 21, 21, 40]\n",
    "    ctx = ts.context(ts.SCHEME_TYPE.CKKS, poly_mod_degree, -1, coeff_mod_bit_sizes)\n",
    "    ctx.global_scale = 2 ** 21\n",
    "    ctx.generate_galois_keys()\n",
    "    ctx.generate_relin_keys()\n",
    "    return ctx"
   ]
  },
  {
   "cell_type": "code",
   "execution_count": 5,
   "metadata": {},
   "outputs": [],
   "source": [
    "max_log_scale = 3\n",
    "iter_num = 10\n",
    "ctx = create_ctx()\n",
    "vecs = list()\n",
    "mats = list()\n",
    "tens = list()"
   ]
  },
  {
   "cell_type": "code",
   "execution_count": 6,
   "metadata": {},
   "outputs": [],
   "source": [
    "for log_scale in range(max_log_scale):\n",
    "    vec = np.random.rand(*[10**log_scale]*1)\n",
    "    vecs.append(vec)\n",
    "    mat = np.random.rand(*[10**log_scale]*2)\n",
    "    mats.append(mat)\n",
    "    # ten = np.random.rand(*[10**log_scale]*3)\n",
    "    # tens.append(ten)"
   ]
  },
  {
   "cell_type": "code",
   "execution_count": 7,
   "metadata": {},
   "outputs": [
    {
     "name": "stdout",
     "output_type": "stream",
     "text": [
      "[raw-1-size vec + vec 10 times] done in 0.00 s\n",
      "[raw-1-size mat + mat 10 times] done in 0.00 s\n",
      "[raw-1-size vec * vec 10 times] done in 0.00 s\n",
      "[raw-1-size mat * mat 10 times] done in 0.00 s\n",
      "[raw-10-size vec + vec 10 times] done in 0.00 s\n",
      "[raw-10-size mat + mat 10 times] done in 0.00 s\n",
      "[raw-10-size vec * vec 10 times] done in 0.00 s\n",
      "[raw-10-size mat * mat 10 times] done in 0.00 s\n",
      "[raw-100-size vec + vec 10 times] done in 0.00 s\n",
      "[raw-100-size mat + mat 10 times] done in 0.00 s\n",
      "[raw-100-size vec * vec 10 times] done in 0.00 s\n",
      "[raw-100-size mat * mat 10 times] done in 0.00 s\n"
     ]
    }
   ],
   "source": [
    "for i in range(max_log_scale):\n",
    "    with timer(f\"raw-{10**i}-size vec + vec {iter_num} times\"):\n",
    "        for _ in range(iter_num):\n",
    "            vecs[i] + vecs[i]\n",
    "    with timer(f\"raw-{10**i}-size mat + mat {iter_num} times\"):\n",
    "        for _ in range(iter_num):\n",
    "            mats[i] + mats[i]\n",
    "    # with timer(f\"raw-{10**i}-size ten + ten {iter_num} times\"):\n",
    "    #     for _ in range(iter_num):\n",
    "    #         tens[i] + tens[i]\n",
    "    with timer(f\"raw-{10**i}-size vec * vec {iter_num} times\"):\n",
    "        for _ in range(iter_num):\n",
    "            vecs[i] @ vecs[i]\n",
    "    with timer(f\"raw-{10**i}-size mat * mat {iter_num} times\"):\n",
    "        for _ in range(iter_num):\n",
    "            mats[i] @ mats[i]\n",
    "    # with timer(f\"raw-{10**i}-size ten * ten `iter_num` times\"):\n",
    "    #     for _ in range(iter_num):\n",
    "    #         tens[i] @ tens[i]"
   ]
  },
  {
   "cell_type": "code",
   "execution_count": 8,
   "metadata": {},
   "outputs": [],
   "source": [
    "vecs = [ts.ckks_vector(ctx, vec) for vec in vecs]\n",
    "mats = [ts.ckks_tensor(ctx, mat) for mat in mats]\n",
    "# tens = [ts.ckks_tensor(ctx, ten) for ten in tens]"
   ]
  },
  {
   "cell_type": "code",
   "execution_count": 9,
   "metadata": {},
   "outputs": [
    {
     "name": "stdout",
     "output_type": "stream",
     "text": [
      "[tenseal-1-size vec + vec 10 times] done in 0.01 s\n",
      "[tenseal-1-size mat + mat 10 times] done in 0.00 s\n",
      "[tenseal-1-size vec * vec 10 times] done in 0.12 s\n",
      "[tenseal-1-size mat * mat 10 times] done in 0.12 s\n",
      "[tenseal-10-size vec + vec 10 times] done in 0.00 s\n",
      "[tenseal-10-size mat + mat 10 times] done in 0.41 s\n",
      "[tenseal-10-size vec * vec 10 times] done in 0.49 s\n",
      "[tenseal-10-size mat * mat 10 times] done in 17.27 s\n",
      "[tenseal-100-size vec + vec 10 times] done in 0.00 s\n",
      "[tenseal-100-size mat + mat 10 times] done in 47.75 s\n",
      "[tenseal-100-size vec * vec 10 times] done in 1.04 s\n",
      "[tenseal-100-size mat * mat 10 times] done in 16453.19 s\n"
     ]
    }
   ],
   "source": [
    "for i in range(max_log_scale):\n",
    "    with timer(f\"tenseal-{10**i}-size vec + vec {iter_num} times\"):\n",
    "        for _ in range(iter_num):\n",
    "            vecs[i] + vecs[i]\n",
    "    with timer(f\"tenseal-{10**i}-size mat + mat {iter_num} times\"):\n",
    "        for _ in range(iter_num):\n",
    "            mats[i] + mats[i]\n",
    "    # with timer(f\"tenseal-{10**i}-size ten + ten {iter_num} times\"):\n",
    "    #     for _ in range(iter_num):\n",
    "    #         tens[i] + tens[i]\n",
    "    with timer(f\"tenseal-{10**i}-size vec * vec {iter_num} times\"):\n",
    "        for _ in range(iter_num):\n",
    "            vecs[i].dot(vecs[i])\n",
    "    with timer(f\"tenseal-{10**i}-size mat * mat {iter_num} times\"):\n",
    "        for _ in range(iter_num):\n",
    "            mats[i].dot(mats[i])\n",
    "    # with timer(f\"tenseal-{10**i}-size ten * ten `i/ter_num` times\"):\n",
    "    #     for _ in range(iter_num):\n",
    "    #         tens[i].dot(tens[i])"
   ]
  }
 ],
 "metadata": {
  "kernelspec": {
   "display_name": "Python 3",
   "language": "python",
   "name": "python3"
  },
  "language_info": {
   "codemirror_mode": {
    "name": "ipython",
    "version": 3
   },
   "file_extension": ".py",
   "mimetype": "text/x-python",
   "name": "python",
   "nbconvert_exporter": "python",
   "pygments_lexer": "ipython3",
   "version": "3.10.5"
  }
 },
 "nbformat": 4,
 "nbformat_minor": 2
}
